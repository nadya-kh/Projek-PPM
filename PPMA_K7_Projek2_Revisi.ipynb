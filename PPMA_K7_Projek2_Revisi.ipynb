{
  "nbformat": 4,
  "nbformat_minor": 0,
  "metadata": {
    "colab": {
      "name": "PPMA-K7-Projek2-Revisi",
      "provenance": [],
      "collapsed_sections": []
    },
    "kernelspec": {
      "name": "python3",
      "display_name": "Python 3"
    }
  },
  "cells": [
    {
      "cell_type": "markdown",
      "metadata": {
        "id": "P7RmZQKprgfO"
      },
      "source": [
        "#PROJEK 2\n",
        "#Evaluasi Beberapa Algoritma Klasifikasi Pada Dataset Immunotherapy\n",
        "\n"
      ]
    },
    {
      "cell_type": "code",
      "metadata": {
        "id": "cvBwSlgOS-W6"
      },
      "source": [
        "#Menentukan metode klasifikasi yang akan dievaluasi\r\n",
        "from sklearn.neighbors import KNeighborsClassifier\r\n",
        "from sklearn.tree import DecisionTreeClassifier\r\n",
        "from sklearn.svm import SVC\r\n",
        "\r\n",
        "models = []\r\n",
        "models.append(('KNN', KNeighborsClassifier()))\r\n",
        "models.append(('DST', DecisionTreeClassifier()))\r\n",
        "models.append(('SVM', SVC(gamma='auto')))\r\n",
        "\r\n",
        "#evaluate each model in turn\r\n",
        "results = []\r\n",
        "names = []"
      ],
      "execution_count": null,
      "outputs": []
    },
    {
      "cell_type": "code",
      "metadata": {
        "colab": {
          "base_uri": "https://localhost:8080/"
        },
        "id": "vuTjEMHdQXV6",
        "outputId": "45c9732e-159d-4c80-9548-65f6e0caa443"
      },
      "source": [
        "# Menggunakan minkowski distance\r\n",
        "knn = KNeighborsClassifier(n_neighbors=5)\r\n",
        "knn.fit(X,y)"
      ],
      "execution_count": null,
      "outputs": [
        {
          "output_type": "execute_result",
          "data": {
            "text/plain": [
              "KNeighborsClassifier(algorithm='auto', leaf_size=30, metric='minkowski',\n",
              "                     metric_params=None, n_jobs=None, n_neighbors=5, p=2,\n",
              "                     weights='uniform')"
            ]
          },
          "metadata": {
            "tags": []
          },
          "execution_count": 681
        }
      ]
    },
    {
      "cell_type": "code",
      "metadata": {
        "colab": {
          "base_uri": "https://localhost:8080/"
        },
        "id": "Cu6TXGlwQUgh",
        "outputId": "8196d1b5-065f-45c5-fb1f-531d1e709494"
      },
      "source": [
        "# Menggunakan kriteria GINI Index\r\n",
        "dst = DecisionTreeClassifier()\r\n",
        "dst.fit(X,y)"
      ],
      "execution_count": null,
      "outputs": [
        {
          "output_type": "execute_result",
          "data": {
            "text/plain": [
              "DecisionTreeClassifier(ccp_alpha=0.0, class_weight=None, criterion='gini',\n",
              "                       max_depth=None, max_features=None, max_leaf_nodes=None,\n",
              "                       min_impurity_decrease=0.0, min_impurity_split=None,\n",
              "                       min_samples_leaf=1, min_samples_split=2,\n",
              "                       min_weight_fraction_leaf=0.0, presort='deprecated',\n",
              "                       random_state=None, splitter='best')"
            ]
          },
          "metadata": {
            "tags": []
          },
          "execution_count": 682
        }
      ]
    },
    {
      "cell_type": "code",
      "metadata": {
        "colab": {
          "base_uri": "https://localhost:8080/"
        },
        "id": "D2W9aKH4QZ6s",
        "outputId": "524b8eaa-cecb-41c5-e6d4-b93ee125d15d"
      },
      "source": [
        "# Menggunakan kernel RBF\r\n",
        "svm = SVC(gamma='auto')\r\n",
        "svm.fit(X,y)"
      ],
      "execution_count": null,
      "outputs": [
        {
          "output_type": "execute_result",
          "data": {
            "text/plain": [
              "SVC(C=1.0, break_ties=False, cache_size=200, class_weight=None, coef0=0.0,\n",
              "    decision_function_shape='ovr', degree=3, gamma='auto', kernel='rbf',\n",
              "    max_iter=-1, probability=False, random_state=None, shrinking=True,\n",
              "    tol=0.001, verbose=False)"
            ]
          },
          "metadata": {
            "tags": []
          },
          "execution_count": 683
        }
      ]
    },
    {
      "cell_type": "code",
      "metadata": {
        "colab": {
          "resources": {
            "http://localhost:8080/nbextensions/google.colab/files.js": {
              "data": "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",
              "ok": true,
              "headers": [
                [
                  "content-type",
                  "application/javascript"
                ]
              ],
              "status": 200,
              "status_text": ""
            }
          },
          "base_uri": "https://localhost:8080/",
          "height": 89
        },
        "id": "F935g5rxRnxT",
        "outputId": "5735db59-cf67-4343-af4f-e7f9ebbae7ee"
      },
      "source": [
        "#Upload Dataset Immunotherapy\r\n",
        "import pandas as pd\r\n",
        "import numpy as np\r\n",
        "from google.colab import files\r\n",
        "immunotherapy = files.upload()\r\n",
        "for fn in immunotherapy.keys():\r\n",
        "  print('Nama file \"{name}\" dengan panjang {length} bytes'.format(\r\n",
        "      name=fn, length=len(immunotherapy[fn])\r\n",
        "      ))"
      ],
      "execution_count": null,
      "outputs": [
        {
          "output_type": "display_data",
          "data": {
            "text/html": [
              "\n",
              "     <input type=\"file\" id=\"files-edf7a4a3-718e-4b35-bbeb-8a182d38b834\" name=\"files[]\" multiple disabled\n",
              "        style=\"border:none\" />\n",
              "     <output id=\"result-edf7a4a3-718e-4b35-bbeb-8a182d38b834\">\n",
              "      Upload widget is only available when the cell has been executed in the\n",
              "      current browser session. Please rerun this cell to enable.\n",
              "      </output>\n",
              "      <script src=\"/nbextensions/google.colab/files.js\"></script> "
            ],
            "text/plain": [
              "<IPython.core.display.HTML object>"
            ]
          },
          "metadata": {
            "tags": []
          }
        },
        {
          "output_type": "stream",
          "text": [
            "Saving Immunotherapy.xlsx to Immunotherapy (17).xlsx\n",
            "Nama file \"Immunotherapy.xlsx\" dengan panjang 33796 bytes\n"
          ],
          "name": "stdout"
        }
      ]
    },
    {
      "cell_type": "markdown",
      "metadata": {
        "id": "_TpWzSiIZaZQ"
      },
      "source": [
        "# **Dataset Tanpa Normalisasi**"
      ]
    },
    {
      "cell_type": "code",
      "metadata": {
        "colab": {
          "base_uri": "https://localhost:8080/",
          "height": 419
        },
        "id": "YbfMpPd06I61",
        "outputId": "a89ec046-d756-4ced-8032-a6cd838e2485"
      },
      "source": [
        "# Menampilkan Dataset\n",
        "import pandas as pd\n",
        "import numpy as np\n",
        "data = pd.read_excel('Immunotherapy.xlsx')\n",
        "data"
      ],
      "execution_count": null,
      "outputs": [
        {
          "output_type": "execute_result",
          "data": {
            "text/html": [
              "<div>\n",
              "<style scoped>\n",
              "    .dataframe tbody tr th:only-of-type {\n",
              "        vertical-align: middle;\n",
              "    }\n",
              "\n",
              "    .dataframe tbody tr th {\n",
              "        vertical-align: top;\n",
              "    }\n",
              "\n",
              "    .dataframe thead th {\n",
              "        text-align: right;\n",
              "    }\n",
              "</style>\n",
              "<table border=\"1\" class=\"dataframe\">\n",
              "  <thead>\n",
              "    <tr style=\"text-align: right;\">\n",
              "      <th></th>\n",
              "      <th>sex</th>\n",
              "      <th>age</th>\n",
              "      <th>Time</th>\n",
              "      <th>Number_of_Warts</th>\n",
              "      <th>Type</th>\n",
              "      <th>Area</th>\n",
              "      <th>induration_diameter</th>\n",
              "      <th>Result_of_Treatment</th>\n",
              "    </tr>\n",
              "  </thead>\n",
              "  <tbody>\n",
              "    <tr>\n",
              "      <th>0</th>\n",
              "      <td>1</td>\n",
              "      <td>22</td>\n",
              "      <td>2.25</td>\n",
              "      <td>14</td>\n",
              "      <td>3</td>\n",
              "      <td>51</td>\n",
              "      <td>50</td>\n",
              "      <td>1</td>\n",
              "    </tr>\n",
              "    <tr>\n",
              "      <th>1</th>\n",
              "      <td>1</td>\n",
              "      <td>15</td>\n",
              "      <td>3.00</td>\n",
              "      <td>2</td>\n",
              "      <td>3</td>\n",
              "      <td>900</td>\n",
              "      <td>70</td>\n",
              "      <td>1</td>\n",
              "    </tr>\n",
              "    <tr>\n",
              "      <th>2</th>\n",
              "      <td>1</td>\n",
              "      <td>16</td>\n",
              "      <td>10.50</td>\n",
              "      <td>2</td>\n",
              "      <td>1</td>\n",
              "      <td>100</td>\n",
              "      <td>25</td>\n",
              "      <td>1</td>\n",
              "    </tr>\n",
              "    <tr>\n",
              "      <th>3</th>\n",
              "      <td>1</td>\n",
              "      <td>27</td>\n",
              "      <td>4.50</td>\n",
              "      <td>9</td>\n",
              "      <td>3</td>\n",
              "      <td>80</td>\n",
              "      <td>30</td>\n",
              "      <td>1</td>\n",
              "    </tr>\n",
              "    <tr>\n",
              "      <th>4</th>\n",
              "      <td>1</td>\n",
              "      <td>20</td>\n",
              "      <td>8.00</td>\n",
              "      <td>6</td>\n",
              "      <td>1</td>\n",
              "      <td>45</td>\n",
              "      <td>8</td>\n",
              "      <td>1</td>\n",
              "    </tr>\n",
              "    <tr>\n",
              "      <th>...</th>\n",
              "      <td>...</td>\n",
              "      <td>...</td>\n",
              "      <td>...</td>\n",
              "      <td>...</td>\n",
              "      <td>...</td>\n",
              "      <td>...</td>\n",
              "      <td>...</td>\n",
              "      <td>...</td>\n",
              "    </tr>\n",
              "    <tr>\n",
              "      <th>85</th>\n",
              "      <td>1</td>\n",
              "      <td>40</td>\n",
              "      <td>5.50</td>\n",
              "      <td>8</td>\n",
              "      <td>3</td>\n",
              "      <td>69</td>\n",
              "      <td>5</td>\n",
              "      <td>1</td>\n",
              "    </tr>\n",
              "    <tr>\n",
              "      <th>86</th>\n",
              "      <td>1</td>\n",
              "      <td>38</td>\n",
              "      <td>7.50</td>\n",
              "      <td>8</td>\n",
              "      <td>2</td>\n",
              "      <td>56</td>\n",
              "      <td>45</td>\n",
              "      <td>1</td>\n",
              "    </tr>\n",
              "    <tr>\n",
              "      <th>87</th>\n",
              "      <td>1</td>\n",
              "      <td>46</td>\n",
              "      <td>11.50</td>\n",
              "      <td>4</td>\n",
              "      <td>1</td>\n",
              "      <td>91</td>\n",
              "      <td>25</td>\n",
              "      <td>0</td>\n",
              "    </tr>\n",
              "    <tr>\n",
              "      <th>88</th>\n",
              "      <td>1</td>\n",
              "      <td>32</td>\n",
              "      <td>12.00</td>\n",
              "      <td>9</td>\n",
              "      <td>1</td>\n",
              "      <td>43</td>\n",
              "      <td>50</td>\n",
              "      <td>0</td>\n",
              "    </tr>\n",
              "    <tr>\n",
              "      <th>89</th>\n",
              "      <td>2</td>\n",
              "      <td>23</td>\n",
              "      <td>6.75</td>\n",
              "      <td>6</td>\n",
              "      <td>1</td>\n",
              "      <td>19</td>\n",
              "      <td>2</td>\n",
              "      <td>1</td>\n",
              "    </tr>\n",
              "  </tbody>\n",
              "</table>\n",
              "<p>90 rows × 8 columns</p>\n",
              "</div>"
            ],
            "text/plain": [
              "    sex  age   Time  ...  Area  induration_diameter  Result_of_Treatment\n",
              "0     1   22   2.25  ...    51                   50                    1\n",
              "1     1   15   3.00  ...   900                   70                    1\n",
              "2     1   16  10.50  ...   100                   25                    1\n",
              "3     1   27   4.50  ...    80                   30                    1\n",
              "4     1   20   8.00  ...    45                    8                    1\n",
              "..  ...  ...    ...  ...   ...                  ...                  ...\n",
              "85    1   40   5.50  ...    69                    5                    1\n",
              "86    1   38   7.50  ...    56                   45                    1\n",
              "87    1   46  11.50  ...    91                   25                    0\n",
              "88    1   32  12.00  ...    43                   50                    0\n",
              "89    2   23   6.75  ...    19                    2                    1\n",
              "\n",
              "[90 rows x 8 columns]"
            ]
          },
          "metadata": {
            "tags": []
          },
          "execution_count": 685
        }
      ]
    },
    {
      "cell_type": "code",
      "metadata": {
        "colab": {
          "base_uri": "https://localhost:8080/",
          "height": 204
        },
        "id": "Uht746i86eB5",
        "outputId": "b291eca1-a7bf-4529-fcd5-b04770581bee"
      },
      "source": [
        "data.head()"
      ],
      "execution_count": null,
      "outputs": [
        {
          "output_type": "execute_result",
          "data": {
            "text/html": [
              "<div>\n",
              "<style scoped>\n",
              "    .dataframe tbody tr th:only-of-type {\n",
              "        vertical-align: middle;\n",
              "    }\n",
              "\n",
              "    .dataframe tbody tr th {\n",
              "        vertical-align: top;\n",
              "    }\n",
              "\n",
              "    .dataframe thead th {\n",
              "        text-align: right;\n",
              "    }\n",
              "</style>\n",
              "<table border=\"1\" class=\"dataframe\">\n",
              "  <thead>\n",
              "    <tr style=\"text-align: right;\">\n",
              "      <th></th>\n",
              "      <th>sex</th>\n",
              "      <th>age</th>\n",
              "      <th>Time</th>\n",
              "      <th>Number_of_Warts</th>\n",
              "      <th>Type</th>\n",
              "      <th>Area</th>\n",
              "      <th>induration_diameter</th>\n",
              "      <th>Result_of_Treatment</th>\n",
              "    </tr>\n",
              "  </thead>\n",
              "  <tbody>\n",
              "    <tr>\n",
              "      <th>0</th>\n",
              "      <td>1</td>\n",
              "      <td>22</td>\n",
              "      <td>2.25</td>\n",
              "      <td>14</td>\n",
              "      <td>3</td>\n",
              "      <td>51</td>\n",
              "      <td>50</td>\n",
              "      <td>1</td>\n",
              "    </tr>\n",
              "    <tr>\n",
              "      <th>1</th>\n",
              "      <td>1</td>\n",
              "      <td>15</td>\n",
              "      <td>3.00</td>\n",
              "      <td>2</td>\n",
              "      <td>3</td>\n",
              "      <td>900</td>\n",
              "      <td>70</td>\n",
              "      <td>1</td>\n",
              "    </tr>\n",
              "    <tr>\n",
              "      <th>2</th>\n",
              "      <td>1</td>\n",
              "      <td>16</td>\n",
              "      <td>10.50</td>\n",
              "      <td>2</td>\n",
              "      <td>1</td>\n",
              "      <td>100</td>\n",
              "      <td>25</td>\n",
              "      <td>1</td>\n",
              "    </tr>\n",
              "    <tr>\n",
              "      <th>3</th>\n",
              "      <td>1</td>\n",
              "      <td>27</td>\n",
              "      <td>4.50</td>\n",
              "      <td>9</td>\n",
              "      <td>3</td>\n",
              "      <td>80</td>\n",
              "      <td>30</td>\n",
              "      <td>1</td>\n",
              "    </tr>\n",
              "    <tr>\n",
              "      <th>4</th>\n",
              "      <td>1</td>\n",
              "      <td>20</td>\n",
              "      <td>8.00</td>\n",
              "      <td>6</td>\n",
              "      <td>1</td>\n",
              "      <td>45</td>\n",
              "      <td>8</td>\n",
              "      <td>1</td>\n",
              "    </tr>\n",
              "  </tbody>\n",
              "</table>\n",
              "</div>"
            ],
            "text/plain": [
              "   sex  age   Time  ...  Area  induration_diameter  Result_of_Treatment\n",
              "0    1   22   2.25  ...    51                   50                    1\n",
              "1    1   15   3.00  ...   900                   70                    1\n",
              "2    1   16  10.50  ...   100                   25                    1\n",
              "3    1   27   4.50  ...    80                   30                    1\n",
              "4    1   20   8.00  ...    45                    8                    1\n",
              "\n",
              "[5 rows x 8 columns]"
            ]
          },
          "metadata": {
            "tags": []
          },
          "execution_count": 686
        }
      ]
    },
    {
      "cell_type": "code",
      "metadata": {
        "colab": {
          "base_uri": "https://localhost:8080/"
        },
        "id": "GyY34TvY6hP7",
        "outputId": "0192d86b-473e-410a-c8f6-8c5e2b57aea6"
      },
      "source": [
        "#Pengecekan Missing Value\n",
        "data.isnull().values.any()"
      ],
      "execution_count": null,
      "outputs": [
        {
          "output_type": "execute_result",
          "data": {
            "text/plain": [
              "False"
            ]
          },
          "metadata": {
            "tags": []
          },
          "execution_count": 687
        }
      ]
    },
    {
      "cell_type": "code",
      "metadata": {
        "colab": {
          "base_uri": "https://localhost:8080/"
        },
        "id": "roj71k876l1x",
        "outputId": "1d1ea9c9-c586-4f3b-8a2b-fb5c30f00db3"
      },
      "source": [
        "def cetak_rentang(df_input):\n",
        "  list_fitur = df_input.columns[:-1]\n",
        "  for fitur in list_fitur:\n",
        "    max = df_input[fitur].max()\n",
        "    min = df_input[fitur].min()\n",
        "    print(\"Rentang fitur \", fitur, \"\\tadalah \", max-min)\n",
        "\n",
        "cetak_rentang(data)"
      ],
      "execution_count": null,
      "outputs": [
        {
          "output_type": "stream",
          "text": [
            "Rentang fitur  sex \tadalah  1\n",
            "Rentang fitur  age \tadalah  41\n",
            "Rentang fitur  Time \tadalah  11.0\n",
            "Rentang fitur  Number_of_Warts \tadalah  18\n",
            "Rentang fitur  Type \tadalah  2\n",
            "Rentang fitur  Area \tadalah  894\n",
            "Rentang fitur  induration_diameter \tadalah  68\n"
          ],
          "name": "stdout"
        }
      ]
    },
    {
      "cell_type": "code",
      "metadata": {
        "id": "JI06RjziaIlG"
      },
      "source": [
        "# Membuat Set Data Validasi Data Tanpa Normalisasi\r\n",
        "from sklearn.model_selection import train_test_split\r\n",
        "array = data.values\r\n",
        "X = array[:,0:-1]\r\n",
        "y = array[:,-1]\r\n",
        "X_train, X_validation, Y_train, Y_validation = train_test_split(X, y, test_size=0.20, random_state=1, shuffle=True)"
      ],
      "execution_count": null,
      "outputs": []
    },
    {
      "cell_type": "markdown",
      "metadata": {
        "id": "ShxoaBuubWxE"
      },
      "source": [
        "**K-Fold Cross Validation Data Tanpa Normalisasi**"
      ]
    },
    {
      "cell_type": "code",
      "metadata": {
        "colab": {
          "base_uri": "https://localhost:8080/"
        },
        "id": "qIQ880VLbnsE",
        "outputId": "e4493425-e191-4e1b-f0a2-042eb618b087"
      },
      "source": [
        "#Accuracy\r\n",
        "from sklearn.model_selection import KFold\r\n",
        "from sklearn.model_selection import cross_val_score\r\n",
        "\r\n",
        "results_acc = []\r\n",
        "names_acc = []\r\n",
        "scoring = 'accuracy'\r\n",
        "for name, model in models:\r\n",
        "  kfold = KFold(n_splits=5)\r\n",
        "  cv_results = cross_val_score(model, X_train, Y_train, cv=kfold, scoring=scoring)\r\n",
        "  results_acc.append(cv_results)\r\n",
        "  names_acc.append(name)\r\n",
        "  msg = \"%s: %.2f%%\" % (name, (cv_results.mean()*100))\r\n",
        "  print(msg)"
      ],
      "execution_count": null,
      "outputs": [
        {
          "output_type": "stream",
          "text": [
            "KNN: 80.57%\n",
            "DST: 76.19%\n",
            "SVM: 81.90%\n"
          ],
          "name": "stdout"
        }
      ]
    },
    {
      "cell_type": "markdown",
      "metadata": {
        "id": "1Y3vqMxKbzmg"
      },
      "source": [
        "Hasil akurasi terbaik: SVM"
      ]
    },
    {
      "cell_type": "code",
      "metadata": {
        "colab": {
          "base_uri": "https://localhost:8080/"
        },
        "id": "7QXgYtZDboSI",
        "outputId": "8445ad05-8abf-4f0d-fef8-ece40ff1ebbf"
      },
      "source": [
        "#Precision\r\n",
        "results_prec = []\r\n",
        "names_prec = []\r\n",
        "scoring = 'precision'\r\n",
        "for name, model in models:\r\n",
        "  kfold = KFold(n_splits=5)\r\n",
        "  cv_results = cross_val_score(model, X_train, Y_train, cv=kfold, scoring=scoring)\r\n",
        "  results_prec.append(cv_results)\r\n",
        "  names_prec.append(name)\r\n",
        "  msg = \"%s: %.2f%%\" % (name, (cv_results.mean()*100))\r\n",
        "  print(msg)"
      ],
      "execution_count": null,
      "outputs": [
        {
          "output_type": "stream",
          "text": [
            "KNN: 81.81%\n",
            "DST: 86.99%\n",
            "SVM: 81.90%\n"
          ],
          "name": "stdout"
        }
      ]
    },
    {
      "cell_type": "markdown",
      "metadata": {
        "id": "LM22t1Ahb4b3"
      },
      "source": [
        "Hasil presisi terbaik: DST"
      ]
    },
    {
      "cell_type": "code",
      "metadata": {
        "colab": {
          "base_uri": "https://localhost:8080/"
        },
        "id": "sW53hNMubrgW",
        "outputId": "f5b53848-7b98-4c02-c52e-ba4ef4d384f4"
      },
      "source": [
        "#Specificity\r\n",
        "from sklearn.metrics import confusion_matrix\r\n",
        "\r\n",
        "results_spec = []\r\n",
        "names_spec = []\r\n",
        "for name, model in models:\r\n",
        "  kfold = KFold(n_splits=5)\r\n",
        "  model.fit(X_train, Y_train)\r\n",
        "  predicted = model.predict(X_validation)\r\n",
        "  matrix = confusion_matrix(Y_validation, predicted)\r\n",
        "  TN = matrix[0][0]\r\n",
        "  FP = matrix[0][1]\r\n",
        "  spec_results = (TN / float(TN + FP))\r\n",
        "  cv_results = cross_val_score(model, X_train, Y_train, cv=kfold, scoring=scoring)\r\n",
        "  results_spec.append(spec_results)\r\n",
        "  names_spec.append(name)\r\n",
        "  msg = \"%s: %.2f%%\" % (name, (spec_results.mean()*100))\r\n",
        "  print(msg)"
      ],
      "execution_count": null,
      "outputs": [
        {
          "output_type": "stream",
          "text": [
            "KNN: 16.67%\n",
            "DST: 66.67%\n",
            "SVM: 0.00%\n"
          ],
          "name": "stdout"
        }
      ]
    },
    {
      "cell_type": "markdown",
      "metadata": {
        "id": "l_avw2Kcb9zy"
      },
      "source": [
        "Hasil spesifisitas terbaik: DST"
      ]
    },
    {
      "cell_type": "markdown",
      "metadata": {
        "id": "x1jCYB7jZrtm"
      },
      "source": [
        "# **Dataset dengan Normalisasi Minmax**"
      ]
    },
    {
      "cell_type": "code",
      "metadata": {
        "colab": {
          "base_uri": "https://localhost:8080/",
          "height": 204
        },
        "id": "iMnOeFHNZw04",
        "outputId": "1c5c9779-a55a-4b88-81c7-61b7a826e2e5"
      },
      "source": [
        "# Menampilkan Dataset\r\n",
        "import pandas as pd\r\n",
        "import numpy as np\r\n",
        "data_minmax = pd.read_excel('Immunotherapy.xlsx')\r\n",
        "data_minmax.head()"
      ],
      "execution_count": null,
      "outputs": [
        {
          "output_type": "execute_result",
          "data": {
            "text/html": [
              "<div>\n",
              "<style scoped>\n",
              "    .dataframe tbody tr th:only-of-type {\n",
              "        vertical-align: middle;\n",
              "    }\n",
              "\n",
              "    .dataframe tbody tr th {\n",
              "        vertical-align: top;\n",
              "    }\n",
              "\n",
              "    .dataframe thead th {\n",
              "        text-align: right;\n",
              "    }\n",
              "</style>\n",
              "<table border=\"1\" class=\"dataframe\">\n",
              "  <thead>\n",
              "    <tr style=\"text-align: right;\">\n",
              "      <th></th>\n",
              "      <th>sex</th>\n",
              "      <th>age</th>\n",
              "      <th>Time</th>\n",
              "      <th>Number_of_Warts</th>\n",
              "      <th>Type</th>\n",
              "      <th>Area</th>\n",
              "      <th>induration_diameter</th>\n",
              "      <th>Result_of_Treatment</th>\n",
              "    </tr>\n",
              "  </thead>\n",
              "  <tbody>\n",
              "    <tr>\n",
              "      <th>0</th>\n",
              "      <td>1</td>\n",
              "      <td>22</td>\n",
              "      <td>2.25</td>\n",
              "      <td>14</td>\n",
              "      <td>3</td>\n",
              "      <td>51</td>\n",
              "      <td>50</td>\n",
              "      <td>1</td>\n",
              "    </tr>\n",
              "    <tr>\n",
              "      <th>1</th>\n",
              "      <td>1</td>\n",
              "      <td>15</td>\n",
              "      <td>3.00</td>\n",
              "      <td>2</td>\n",
              "      <td>3</td>\n",
              "      <td>900</td>\n",
              "      <td>70</td>\n",
              "      <td>1</td>\n",
              "    </tr>\n",
              "    <tr>\n",
              "      <th>2</th>\n",
              "      <td>1</td>\n",
              "      <td>16</td>\n",
              "      <td>10.50</td>\n",
              "      <td>2</td>\n",
              "      <td>1</td>\n",
              "      <td>100</td>\n",
              "      <td>25</td>\n",
              "      <td>1</td>\n",
              "    </tr>\n",
              "    <tr>\n",
              "      <th>3</th>\n",
              "      <td>1</td>\n",
              "      <td>27</td>\n",
              "      <td>4.50</td>\n",
              "      <td>9</td>\n",
              "      <td>3</td>\n",
              "      <td>80</td>\n",
              "      <td>30</td>\n",
              "      <td>1</td>\n",
              "    </tr>\n",
              "    <tr>\n",
              "      <th>4</th>\n",
              "      <td>1</td>\n",
              "      <td>20</td>\n",
              "      <td>8.00</td>\n",
              "      <td>6</td>\n",
              "      <td>1</td>\n",
              "      <td>45</td>\n",
              "      <td>8</td>\n",
              "      <td>1</td>\n",
              "    </tr>\n",
              "  </tbody>\n",
              "</table>\n",
              "</div>"
            ],
            "text/plain": [
              "   sex  age   Time  ...  Area  induration_diameter  Result_of_Treatment\n",
              "0    1   22   2.25  ...    51                   50                    1\n",
              "1    1   15   3.00  ...   900                   70                    1\n",
              "2    1   16  10.50  ...   100                   25                    1\n",
              "3    1   27   4.50  ...    80                   30                    1\n",
              "4    1   20   8.00  ...    45                    8                    1\n",
              "\n",
              "[5 rows x 8 columns]"
            ]
          },
          "metadata": {
            "tags": []
          },
          "execution_count": 693
        }
      ]
    },
    {
      "cell_type": "code",
      "metadata": {
        "id": "NFKbzQ0D65uK"
      },
      "source": [
        "def minmax(df_input):\n",
        "  list_fitur = df_input.columns[:-1]\n",
        "  for fitur in list_fitur:\n",
        "    max = df_input[fitur].max()\n",
        "    min = df_input[fitur].min()\n",
        "    df_input[fitur] = (df_input[fitur]-min)/(max-min)\n",
        "  return df_input\n",
        "\n",
        "data_minmax = minmax(data)"
      ],
      "execution_count": null,
      "outputs": []
    },
    {
      "cell_type": "code",
      "metadata": {
        "colab": {
          "base_uri": "https://localhost:8080/"
        },
        "id": "j6RQU6KU7MR_",
        "outputId": "c219fe0b-3fcd-4027-d241-b5996dacb5c1"
      },
      "source": [
        "cetak_rentang(data_minmax)"
      ],
      "execution_count": null,
      "outputs": [
        {
          "output_type": "stream",
          "text": [
            "Rentang fitur  sex \tadalah  1.0\n",
            "Rentang fitur  age \tadalah  1.0\n",
            "Rentang fitur  Time \tadalah  1.0\n",
            "Rentang fitur  Number_of_Warts \tadalah  1.0\n",
            "Rentang fitur  Type \tadalah  1.0\n",
            "Rentang fitur  Area \tadalah  1.0\n",
            "Rentang fitur  induration_diameter \tadalah  1.0\n"
          ],
          "name": "stdout"
        }
      ]
    },
    {
      "cell_type": "code",
      "metadata": {
        "id": "rpEu-KWF8ylv"
      },
      "source": [
        "# Membuat Set Data Validasi Data Normalisasi Minmax\n",
        "from sklearn.model_selection import train_test_split\n",
        "array_minmax = data_minmax.values\n",
        "Xm = array_minmax[:,0:-1]\n",
        "ym = array_minmax[:,-1]\n",
        "Xm_train, Xm_validation, Ym_train, Ym_validation = train_test_split(Xm, ym, test_size=0.20, random_state=1, shuffle=True)"
      ],
      "execution_count": null,
      "outputs": []
    },
    {
      "cell_type": "markdown",
      "metadata": {
        "id": "DnwkLb4rxwzM"
      },
      "source": [
        "**K-Fold Cross Validation Data Normalisasi Minmax**"
      ]
    },
    {
      "cell_type": "code",
      "metadata": {
        "colab": {
          "base_uri": "https://localhost:8080/"
        },
        "id": "Bkh1Yh54wpeF",
        "outputId": "5f65eff1-a05a-46bf-a882-48335701f307"
      },
      "source": [
        "#Accuracy\r\n",
        "from sklearn.model_selection import KFold\r\n",
        "from sklearn.model_selection import cross_val_score\r\n",
        "\r\n",
        "results_acc_m = []\r\n",
        "names_acc_m = []\r\n",
        "scoring_m = 'accuracy'\r\n",
        "for name, model in models:\r\n",
        "  kfold_m = KFold(n_splits=5)\r\n",
        "  cv_results_m = cross_val_score(model, Xm_train, Ym_train, cv=kfold_m, scoring=scoring_m)\r\n",
        "  results_acc_m.append(cv_results_m)\r\n",
        "  names_acc_m.append(name)\r\n",
        "  msg_m = \"%s: %.2f%%\" % (name, (cv_results_m.mean()*100))\r\n",
        "  print(msg_m)"
      ],
      "execution_count": null,
      "outputs": [
        {
          "output_type": "stream",
          "text": [
            "KNN: 79.24%\n",
            "DST: 80.29%\n",
            "SVM: 81.90%\n"
          ],
          "name": "stdout"
        }
      ]
    },
    {
      "cell_type": "markdown",
      "metadata": {
        "id": "hhTRsFxAzKCI"
      },
      "source": [
        "Hasil akurasi terbaik : SVM"
      ]
    },
    {
      "cell_type": "code",
      "metadata": {
        "colab": {
          "base_uri": "https://localhost:8080/"
        },
        "id": "dJ5HtnAUx5kJ",
        "outputId": "8aeb497c-cbab-457a-c0f8-7fb6ec4022b6"
      },
      "source": [
        "#Precision\r\n",
        "results_prec_m = []\r\n",
        "names_prec_m = []\r\n",
        "scoring_m = 'precision'\r\n",
        "for name, model in models:\r\n",
        "  kfold_m = KFold(n_splits=5)\r\n",
        "  cv_results_m = cross_val_score(model, Xm_train, Ym_train, cv=kfold_m, scoring=scoring_m)\r\n",
        "  results_prec_m.append(cv_results_m)\r\n",
        "  names_prec_m.append(name)\r\n",
        "  msg_m = \"%s: %.2f%%\" % (name, (cv_results_m.mean()*100))\r\n",
        "  print(msg_m)"
      ],
      "execution_count": null,
      "outputs": [
        {
          "output_type": "stream",
          "text": [
            "KNN: 81.43%\n",
            "DST: 87.44%\n",
            "SVM: 81.90%\n"
          ],
          "name": "stdout"
        }
      ]
    },
    {
      "cell_type": "markdown",
      "metadata": {
        "id": "GW4Cl2oZzPJX"
      },
      "source": [
        "Hasil presisi terbaik : DST"
      ]
    },
    {
      "cell_type": "code",
      "metadata": {
        "colab": {
          "base_uri": "https://localhost:8080/"
        },
        "id": "a7Gty6ZzyPh_",
        "outputId": "06f7e12c-1725-44cc-8c4b-6ac6e80909a1"
      },
      "source": [
        "#Specificity\r\n",
        "from sklearn.metrics import confusion_matrix\r\n",
        "\r\n",
        "results_spec_m = []\r\n",
        "names_spec_m = []\r\n",
        "for name, model in models:\r\n",
        "  kfold_m = KFold(n_splits=5)\r\n",
        "  model.fit(Xm_train, Ym_train)\r\n",
        "  predicted = model.predict(Xm_validation)\r\n",
        "  matrix = confusion_matrix(Ym_validation, predicted)\r\n",
        "  TN = matrix[0][0]\r\n",
        "  FP = matrix[0][1]\r\n",
        "  spec_results_m = (TN / float(TN + FP))\r\n",
        "  cv_results_m = cross_val_score(model, Xm_train, Ym_train, cv=kfold_m, scoring=scoring_m)\r\n",
        "  results_spec_m.append(spec_results_m)\r\n",
        "  names_spec_m.append(name)\r\n",
        "  msg_m = \"%s: %.2f%%\" % (name, (spec_results_m.mean()*100))\r\n",
        "  print(msg_m)"
      ],
      "execution_count": null,
      "outputs": [
        {
          "output_type": "stream",
          "text": [
            "KNN: 16.67%\n",
            "DST: 83.33%\n",
            "SVM: 0.00%\n"
          ],
          "name": "stdout"
        }
      ]
    },
    {
      "cell_type": "markdown",
      "metadata": {
        "id": "Z1d5urPVzTCv"
      },
      "source": [
        "Hasil spesifisitas terbaik : DST"
      ]
    },
    {
      "cell_type": "markdown",
      "metadata": {
        "id": "roE5fdKnagIx"
      },
      "source": [
        "# **Evaluasi Prediktor Menggunakan SVM dengan Data Normalisasi**"
      ]
    },
    {
      "cell_type": "markdown",
      "metadata": {
        "id": "XMx5dZ3dp0e0"
      },
      "source": [
        "### **a) SVM dengan Kernel RBF**"
      ]
    },
    {
      "cell_type": "code",
      "metadata": {
        "id": "VWOH8tNY-Y2C"
      },
      "source": [
        "# Buat Prediksi SVM Kernel RBF\n",
        "svm = SVC(gamma='auto')"
      ],
      "execution_count": null,
      "outputs": []
    },
    {
      "cell_type": "code",
      "metadata": {
        "colab": {
          "base_uri": "https://localhost:8080/"
        },
        "id": "YvY3cveIPW-T",
        "outputId": "303e31f9-66a1-4955-e468-94c465ea2a7a"
      },
      "source": [
        "svm.fit(Xm_train, Ym_train)"
      ],
      "execution_count": null,
      "outputs": [
        {
          "output_type": "execute_result",
          "data": {
            "text/plain": [
              "SVC(C=1.0, break_ties=False, cache_size=200, class_weight=None, coef0=0.0,\n",
              "    decision_function_shape='ovr', degree=3, gamma='auto', kernel='rbf',\n",
              "    max_iter=-1, probability=False, random_state=None, shrinking=True,\n",
              "    tol=0.001, verbose=False)"
            ]
          },
          "metadata": {
            "tags": []
          },
          "execution_count": 701
        }
      ]
    },
    {
      "cell_type": "code",
      "metadata": {
        "id": "kNOKLRxuGPvT"
      },
      "source": [
        "predictions_svm = svm.predict(Xm_validation)"
      ],
      "execution_count": null,
      "outputs": []
    },
    {
      "cell_type": "code",
      "metadata": {
        "colab": {
          "base_uri": "https://localhost:8080/"
        },
        "id": "WRrXBnDQHiVS",
        "outputId": "2cdd23b8-2537-4da1-adc3-e077059f03e8"
      },
      "source": [
        "ym_pred_svm = svm.predict(Xm_validation)\n",
        "ym_pred_svm"
      ],
      "execution_count": null,
      "outputs": [
        {
          "output_type": "execute_result",
          "data": {
            "text/plain": [
              "array([1., 1., 1., 1., 1., 1., 1., 1., 1., 1., 1., 1., 1., 1., 1., 1., 1.,\n",
              "       1.])"
            ]
          },
          "metadata": {
            "tags": []
          },
          "execution_count": 703
        }
      ]
    },
    {
      "cell_type": "code",
      "metadata": {
        "colab": {
          "base_uri": "https://localhost:8080/"
        },
        "id": "PZ7TpbQr-qBB",
        "outputId": "8c0e66cd-e26e-4899-e300-b7ac6c4e1316"
      },
      "source": [
        "# Evaluasi Prediksi\n",
        "from sklearn.datasets import make_classification\n",
        "Xm, ym = make_classification(n_samples=1000, n_features=20, n_informative=15, n_redundant=5, random_state=1)\n",
        "\n",
        "from sklearn.metrics import classification_report, confusion_matrix\n",
        "print(confusion_matrix(Ym_validation, ym_pred_svm))\n",
        "print(classification_report(Ym_validation, ym_pred_svm))"
      ],
      "execution_count": null,
      "outputs": [
        {
          "output_type": "stream",
          "text": [
            "[[ 0  6]\n",
            " [ 0 12]]\n",
            "              precision    recall  f1-score   support\n",
            "\n",
            "         0.0       0.00      0.00      0.00         6\n",
            "         1.0       0.67      1.00      0.80        12\n",
            "\n",
            "    accuracy                           0.67        18\n",
            "   macro avg       0.33      0.50      0.40        18\n",
            "weighted avg       0.44      0.67      0.53        18\n",
            "\n"
          ],
          "name": "stdout"
        },
        {
          "output_type": "stream",
          "text": [
            "/usr/local/lib/python3.6/dist-packages/sklearn/metrics/_classification.py:1272: UndefinedMetricWarning: Precision and F-score are ill-defined and being set to 0.0 in labels with no predicted samples. Use `zero_division` parameter to control this behavior.\n",
            "  _warn_prf(average, modifier, msg_start, len(result))\n"
          ],
          "name": "stderr"
        }
      ]
    },
    {
      "cell_type": "code",
      "metadata": {
        "colab": {
          "base_uri": "https://localhost:8080/"
        },
        "id": "rJcyxLJDfrfm",
        "outputId": "4a4f03e3-d745-4cd0-e387-da55653380bd"
      },
      "source": [
        "akurasi_rbf = metrics.accuracy_score(Ym_validation,ym_pred_svm)\r\n",
        "print('Accuracy \\t: %.2f%%'% (akurasi_rbf*100))\r\n",
        "\r\n",
        "presisi_rbf = metrics.accuracy_score(Ym_validation,ym_pred_svm)\r\n",
        "print('Precision \\t: %.2f%%'% (presisi_rbf*100))\r\n",
        "\r\n",
        "specificity_rbf = TN/(TN+FP)\r\n",
        "print('Specificity \\t: %.2f%%'% (specificity_rbf*100))"
      ],
      "execution_count": null,
      "outputs": [
        {
          "output_type": "stream",
          "text": [
            "Accuracy \t: 66.67%\n",
            "Precision \t: 66.67%\n",
            "Specificity \t: 0.00%\n"
          ],
          "name": "stdout"
        }
      ]
    },
    {
      "cell_type": "markdown",
      "metadata": {
        "id": "U_BuglAfO_IN"
      },
      "source": [
        "### **b) SVM dengan Kernel Linear**"
      ]
    },
    {
      "cell_type": "code",
      "metadata": {
        "colab": {
          "base_uri": "https://localhost:8080/"
        },
        "id": "xjd3ss00PFE_",
        "outputId": "a5cfd71f-fb7b-44a6-84f5-fc8554febace"
      },
      "source": [
        "# Buat Prediksi SVM Kernel Linear\r\n",
        "from sklearn.svm import LinearSVC\r\n",
        "svm_linear = LinearSVC()\r\n",
        "svm_linear.fit(Xm_train, Ym_train)"
      ],
      "execution_count": null,
      "outputs": [
        {
          "output_type": "execute_result",
          "data": {
            "text/plain": [
              "LinearSVC(C=1.0, class_weight=None, dual=True, fit_intercept=True,\n",
              "          intercept_scaling=1, loss='squared_hinge', max_iter=1000,\n",
              "          multi_class='ovr', penalty='l2', random_state=None, tol=0.0001,\n",
              "          verbose=0)"
            ]
          },
          "metadata": {
            "tags": []
          },
          "execution_count": 706
        }
      ]
    },
    {
      "cell_type": "code",
      "metadata": {
        "id": "vd2AFwcHPIiv"
      },
      "source": [
        "predictions_svm_linear = svm_linear.predict(Xm_validation)"
      ],
      "execution_count": null,
      "outputs": []
    },
    {
      "cell_type": "code",
      "metadata": {
        "colab": {
          "base_uri": "https://localhost:8080/"
        },
        "id": "wvAvKTYFPLlb",
        "outputId": "3fd7ba5f-0c05-4aac-f19c-f4baa88fefb9"
      },
      "source": [
        "ym_pred_svmlinear = svm_linear.predict(X_validation)\r\n",
        "ym_pred_svmlinear"
      ],
      "execution_count": null,
      "outputs": [
        {
          "output_type": "execute_result",
          "data": {
            "text/plain": [
              "array([0., 0., 0., 0., 0., 0., 0., 0., 0., 0., 0., 0., 0., 0., 0., 0., 0.,\n",
              "       0.])"
            ]
          },
          "metadata": {
            "tags": []
          },
          "execution_count": 708
        }
      ]
    },
    {
      "cell_type": "code",
      "metadata": {
        "colab": {
          "base_uri": "https://localhost:8080/"
        },
        "id": "R8HfspaxQ6sx",
        "outputId": "a5fe6268-ff0e-4b6d-a659-d8b232a01009"
      },
      "source": [
        "# Evaluasi Prediksi\r\n",
        "from sklearn.datasets import make_classification\r\n",
        "Xm, ym = make_classification(n_samples=1000, n_features=20, n_informative=15, n_redundant=5, random_state=1)\r\n",
        "\r\n",
        "from sklearn.metrics import classification_report, confusion_matrix\r\n",
        "print(confusion_matrix(Ym_validation, ym_pred_svmlinear))\r\n",
        "print(classification_report(Ym_validation, ym_pred_svmlinear))"
      ],
      "execution_count": null,
      "outputs": [
        {
          "output_type": "stream",
          "text": [
            "[[ 6  0]\n",
            " [12  0]]\n",
            "              precision    recall  f1-score   support\n",
            "\n",
            "         0.0       0.33      1.00      0.50         6\n",
            "         1.0       0.00      0.00      0.00        12\n",
            "\n",
            "    accuracy                           0.33        18\n",
            "   macro avg       0.17      0.50      0.25        18\n",
            "weighted avg       0.11      0.33      0.17        18\n",
            "\n"
          ],
          "name": "stdout"
        },
        {
          "output_type": "stream",
          "text": [
            "/usr/local/lib/python3.6/dist-packages/sklearn/metrics/_classification.py:1272: UndefinedMetricWarning: Precision and F-score are ill-defined and being set to 0.0 in labels with no predicted samples. Use `zero_division` parameter to control this behavior.\n",
            "  _warn_prf(average, modifier, msg_start, len(result))\n"
          ],
          "name": "stderr"
        }
      ]
    },
    {
      "cell_type": "code",
      "metadata": {
        "colab": {
          "base_uri": "https://localhost:8080/"
        },
        "id": "_0Q-MJxoRDP6",
        "outputId": "d027ed3f-dbd6-4994-edb2-98c5b6ba35a8"
      },
      "source": [
        "akurasi_linear = metrics.accuracy_score(Ym_validation,ym_pred_svmlinear)\r\n",
        "print('Accuracy \\t: %.2f%%'% (akurasi_linear*100))\r\n",
        "\r\n",
        "presisi_linear = metrics.accuracy_score(Ym_validation,ym_pred_svmlinear)\r\n",
        "print('Precision \\t: %.2f%%'% (presisi_linear*100))\r\n",
        "\r\n",
        "specificity_lin = TN/(TN+FP)\r\n",
        "print('Specificity \\t: %.2f%%'% (specificity_lin*100))"
      ],
      "execution_count": null,
      "outputs": [
        {
          "output_type": "stream",
          "text": [
            "Accuracy \t: 33.33%\n",
            "Precision \t: 33.33%\n",
            "Specificity \t: 0.00%\n"
          ],
          "name": "stdout"
        }
      ]
    },
    {
      "cell_type": "markdown",
      "metadata": {
        "id": "Q95j0APBVQgF"
      },
      "source": [
        "### **c) SVM dengan Kernel Polynomial**"
      ]
    },
    {
      "cell_type": "code",
      "metadata": {
        "colab": {
          "base_uri": "https://localhost:8080/"
        },
        "id": "s6PBdMbqVTLA",
        "outputId": "d5a25492-d867-451c-c53c-a2ac38b62c90"
      },
      "source": [
        "# Buat Prediksi SVM Kernel Polynomial\r\n",
        "svm_poly = SVC(kernel='poly', degree=8)\r\n",
        "svm_poly.fit(Xm_train, Ym_train)"
      ],
      "execution_count": null,
      "outputs": [
        {
          "output_type": "execute_result",
          "data": {
            "text/plain": [
              "SVC(C=1.0, break_ties=False, cache_size=200, class_weight=None, coef0=0.0,\n",
              "    decision_function_shape='ovr', degree=8, gamma='scale', kernel='poly',\n",
              "    max_iter=-1, probability=False, random_state=None, shrinking=True,\n",
              "    tol=0.001, verbose=False)"
            ]
          },
          "metadata": {
            "tags": []
          },
          "execution_count": 711
        }
      ]
    },
    {
      "cell_type": "code",
      "metadata": {
        "id": "bGUZvSD4Vitf"
      },
      "source": [
        "predictions_svm_poly = svm_poly.predict(Xm_validation)"
      ],
      "execution_count": null,
      "outputs": []
    },
    {
      "cell_type": "code",
      "metadata": {
        "colab": {
          "base_uri": "https://localhost:8080/"
        },
        "id": "DSMwA7A1VqsW",
        "outputId": "c1c82da1-4453-47f2-b9a5-0adc1f6afc67"
      },
      "source": [
        "ym_pred_svmpoly = svm_poly.predict(Xm_validation)\r\n",
        "ym_pred_svmpoly"
      ],
      "execution_count": null,
      "outputs": [
        {
          "output_type": "execute_result",
          "data": {
            "text/plain": [
              "array([1., 0., 1., 1., 1., 1., 1., 0., 1., 1., 1., 1., 0., 1., 1., 0., 1.,\n",
              "       1.])"
            ]
          },
          "metadata": {
            "tags": []
          },
          "execution_count": 713
        }
      ]
    },
    {
      "cell_type": "code",
      "metadata": {
        "colab": {
          "base_uri": "https://localhost:8080/"
        },
        "id": "hXrzmN8rVxaH",
        "outputId": "a67430a8-b4fc-45a7-a21c-6b822e77c50b"
      },
      "source": [
        "# Evaluasi Prediksi\r\n",
        "from sklearn.datasets import make_classification\r\n",
        "Xm, ym = make_classification(n_samples=1000, n_features=20, n_informative=15, n_redundant=5, random_state=1)\r\n",
        "\r\n",
        "from sklearn.metrics import classification_report, confusion_matrix\r\n",
        "print(confusion_matrix(Ym_validation, ym_pred_svmpoly))\r\n",
        "print(classification_report(Ym_validation, ym_pred_svmpoly))"
      ],
      "execution_count": null,
      "outputs": [
        {
          "output_type": "stream",
          "text": [
            "[[1 5]\n",
            " [3 9]]\n",
            "              precision    recall  f1-score   support\n",
            "\n",
            "         0.0       0.25      0.17      0.20         6\n",
            "         1.0       0.64      0.75      0.69        12\n",
            "\n",
            "    accuracy                           0.56        18\n",
            "   macro avg       0.45      0.46      0.45        18\n",
            "weighted avg       0.51      0.56      0.53        18\n",
            "\n"
          ],
          "name": "stdout"
        }
      ]
    },
    {
      "cell_type": "code",
      "metadata": {
        "colab": {
          "base_uri": "https://localhost:8080/"
        },
        "id": "hiLNR1AlWLUo",
        "outputId": "03ce82c6-29fb-41d1-e01c-a28286a5147e"
      },
      "source": [
        "akurasi_poly = metrics.accuracy_score(Ym_validation,ym_pred_svmpoly)\r\n",
        "print('Accuracy \\t: %.2f%%'% (akurasi_poly*100))\r\n",
        "\r\n",
        "presisi_poly = metrics.accuracy_score(Ym_validation,ym_pred_svmpoly)\r\n",
        "print('Precision \\t: %.2f%%'% (presisi_poly*100))\r\n",
        "\r\n",
        "specificity_poly = TN/(TN+FP)\r\n",
        "print('Specificity \\t: %.2f%%'% (specificity_poly*100))"
      ],
      "execution_count": null,
      "outputs": [
        {
          "output_type": "stream",
          "text": [
            "Accuracy \t: 55.56%\n",
            "Precision \t: 55.56%\n",
            "Specificity \t: 0.00%\n"
          ],
          "name": "stdout"
        }
      ]
    }
  ]
}